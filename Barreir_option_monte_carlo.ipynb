{
  "nbformat": 4,
  "nbformat_minor": 0,
  "metadata": {
    "colab": {
      "name": "Barreir option - monte carlo.ipynb",
      "provenance": [],
      "collapsed_sections": [],
      "authorship_tag": "ABX9TyN8CYfprogdrECjTCg1gZjb",
      "include_colab_link": true
    },
    "kernelspec": {
      "name": "python3",
      "display_name": "Python 3"
    }
  },
  "cells": [
    {
      "cell_type": "markdown",
      "metadata": {
        "id": "view-in-github",
        "colab_type": "text"
      },
      "source": [
        "<a href=\"https://colab.research.google.com/github/Mariusz-cpu/options-valuation/blob/master/Barreir_option_monte_carlo.ipynb\" target=\"_parent\"><img src=\"https://colab.research.google.com/assets/colab-badge.svg\" alt=\"Open In Colab\"/></a>"
      ]
    },
    {
      "cell_type": "code",
      "metadata": {
        "id": "p18TcXdTjlB0",
        "colab_type": "code",
        "outputId": "829ab31d-c36d-4fb6-f190-1e0c6118b08e",
        "colab": {
          "base_uri": "https://localhost:8080/",
          "height": 36
        }
      },
      "source": [
        "#!/usr/bin/env python                                                                                                                                                                                              \n",
        "\n",
        "import numpy as np\n",
        "import matplotlib.pyplot as plt\n",
        "from random import randint\n",
        "\n",
        "seed = randint(0,100000)\n",
        "K = 2000\n",
        "N = 200000\n",
        "np.random.seed(seed)\n",
        "\n",
        "S0 =100 #stock price\n",
        "SP = 110 #Strike_Price\n",
        "r = 0.03 #drift\n",
        "sigma = 0.3 #Volatility\n",
        "H = 70 #barier\n",
        "T = 1\n",
        "\n",
        "\n",
        "\n",
        "dt = T / K\n",
        "B=np.zeros((N, K))\n",
        "B[:, 0] = S0\n",
        "   \n",
        "Si = S0*np.exp((r - 0.5*sigma**2)*dt + sigma * np.random.randn(N) * np.sqrt(dt))-S0\n",
        "   \n",
        "for k in range(K-1):\n",
        "    B[:, k+1] = B[:, k]  + Si\n",
        "    Si=(np.exp((r - 0.5*sigma**2)*dt + sigma * np.random.randn(N) * np.sqrt(dt))-1)*B[:,k+1]\n",
        "\n",
        "\n",
        "#elimination of rows where the share price dropped below barrier\n",
        "B = (np.delete(B, np.where(B < H)[0], axis=0))\n",
        "B = np.maximum(B,SP)\n",
        "\n",
        "#calculation of option value\n",
        "Option_Value=(1/N)*np.exp(-r)*T*np.sum(B[:,K-1]-SP) \n",
        "\n",
        "print(Option_Value)\n"
      ],
      "execution_count": 20,
      "outputs": [
        {
          "output_type": "stream",
          "text": [
            "9.15838762196501\n"
          ],
          "name": "stdout"
        }
      ]
    }
  ]
}